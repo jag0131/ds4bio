{
  "nbformat": 4,
  "nbformat_minor": 0,
  "metadata": {
    "colab": {
      "provenance": []
    },
    "kernelspec": {
      "name": "python3",
      "display_name": "Python 3"
    },
    "language_info": {
      "name": "python"
    }
  },
  "cells": [
    {
      "cell_type": "code",
      "execution_count": null,
      "metadata": {
        "id": "4fNRJP7jd3_X"
      },
      "outputs": [],
      "source": []
    },
    {
      "cell_type": "markdown",
      "source": [
        " 1) name one purpose for github;\n",
        "\n",
        " Github is a code hosting platfrom that lets you both independently and collaboratively work with coding\n",
        "\n",
        " 2) describe what is version control in your own words and how it could help you in your project;\n",
        "\n",
        " Version control is similar to the edit history on Google Docs, Slides, and Sheets. It allows you to see the entire file as it was before and after each edit that was made. This is especially useful when a series of mistakes is made or one wants to see what work has been done by who.\n",
        "\n",
        " 3) explain how in a group project (which we are not doing) github could help manage collaboration.\n",
        "\n",
        "Githubs makes it possible for multiple people to be working on a single file. while github doesn't allow both of you to be working on the same line at the same time, you can be working within the same file at the same time. Githubs version control also lessens the stress of others mistakes being made to the code by giving users the ability to easily backtrack and see who, what, where, and when the mistake was made."
      ],
      "metadata": {
        "id": "iJhjo3Z-d6vq"
      }
    }
  ]
}